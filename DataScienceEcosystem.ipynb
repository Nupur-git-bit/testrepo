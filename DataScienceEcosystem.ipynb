{
 "cells": [
  {
   "cell_type": "markdown",
   "id": "9243aac9-16ed-4808-9896-a0aafc41c193",
   "metadata": {},
   "source": [
    "# Data Science Tools and Ecosystem"
   ]
  },
  {
   "cell_type": "markdown",
   "id": "6d52a658-05f4-4ee1-8de1-c2d447dfc0b8",
   "metadata": {},
   "source": [
    "# In this notebook, Data Science Tools and Ecosystem are summarized."
   ]
  },
  {
   "cell_type": "markdown",
   "id": "9cfe5343-9e28-4302-a513-2810bc605e75",
   "metadata": {},
   "source": [
    "**Objectives:**\n",
    "+ List popular ;amguages of data science\n",
    "+ List open source data environmemt used in data science\n",
    "+ List ommonly used data science libraries\n",
    "+ Do a mathematical operation"
   ]
  },
  {
   "cell_type": "markdown",
   "id": "bcc325f8-2d0b-48f3-b47d-75a515700939",
   "metadata": {},
   "source": [
    "# Some of the popular languages that Data Scientists use are:"
   ]
  },
  {
   "cell_type": "markdown",
   "id": "3e8ed9e1-0ebd-4174-bf79-25c3353dfa02",
   "metadata": {},
   "source": [
    "1. Python\n",
    "2. R\n",
    "3. Scala"
   ]
  },
  {
   "cell_type": "markdown",
   "id": "be462866-3e9c-4c1c-8adb-ce2567e197fb",
   "metadata": {},
   "source": [
    "# Some of the commonly used libraries used by Data Scientists include:\n",
    "1. Pandas\n",
    "2. NumPy\n",
    "3. Matplotlib\n"
   ]
  },
  {
   "cell_type": "markdown",
   "id": "2bdd3eba-0614-466d-a248-27983f5eafa0",
   "metadata": {},
   "source": [
    "\n",
    "| Data Science Tools |\n",
    "|--------------------|\n",
    "|  Jupyter           |\n",
    "|  Anaconda Navigator|\n",
    "|  RStudio           |"
   ]
  },
  {
   "cell_type": "markdown",
   "id": "012f6a5a-48cb-4f87-8f78-396a083b0943",
   "metadata": {},
   "source": [
    "### Below are a few examples of evaluating arithmetic expressions in Python."
   ]
  },
  {
   "cell_type": "code",
   "execution_count": 21,
   "id": "5d40dea4-51b6-415e-a829-166edbe127de",
   "metadata": {},
   "outputs": [
    {
     "data": {
      "text/plain": [
       "17"
      ]
     },
     "execution_count": 21,
     "metadata": {},
     "output_type": "execute_result"
    }
   ],
   "source": [
    "#This a simple arithmetic expression to mutiply then add integers.\n",
    "(3*4)+5"
   ]
  },
  {
   "cell_type": "code",
   "execution_count": 27,
   "id": "4ec444cc-edff-4574-b9a1-92d15ec2c6e2",
   "metadata": {},
   "outputs": [
    {
     "data": {
      "text/plain": [
       "3.3333333333333335"
      ]
     },
     "execution_count": 27,
     "metadata": {},
     "output_type": "execute_result"
    }
   ],
   "source": [
    "#This will convert 200 minutes to hours by diving by 60.\n",
    "200/60"
   ]
  },
  {
   "cell_type": "markdown",
   "id": "4336b5fe-4bfe-4985-b023-3358072d593f",
   "metadata": {},
   "source": [
    "## Author\n",
    "Nupur"
   ]
  },
  {
   "cell_type": "code",
   "execution_count": null,
   "id": "413f43f0-88c0-46b7-93a3-154f53cac51e",
   "metadata": {},
   "outputs": [],
   "source": []
  }
 ],
 "metadata": {
  "kernelspec": {
   "display_name": "Python [conda env:RP_ENV]",
   "language": "python",
   "name": "conda-env-RP_ENV-py"
  },
  "language_info": {
   "codemirror_mode": {
    "name": "ipython",
    "version": 3
   },
   "file_extension": ".py",
   "mimetype": "text/x-python",
   "name": "python",
   "nbconvert_exporter": "python",
   "pygments_lexer": "ipython3",
   "version": "3.12.8"
  }
 },
 "nbformat": 4,
 "nbformat_minor": 5
}
